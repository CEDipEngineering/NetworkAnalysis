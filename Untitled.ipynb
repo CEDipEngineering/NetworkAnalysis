{
 "cells": [
  {
   "cell_type": "code",
   "execution_count": 1,
   "id": "438ac2df",
   "metadata": {},
   "outputs": [
    {
     "data": {
      "text/html": [
       "\n",
       "    <script src=\"/files/netpixi.min.js\"></script>\n"
      ],
      "text/plain": [
       "<IPython.core.display.HTML object>"
      ]
     },
     "metadata": {},
     "output_type": "display_data"
    }
   ],
   "source": [
    "import pandas as pd\n",
    "import matplotlib.pyplot as plt\n",
    "from graph_tool import Graph\n",
    "from netpixi.data.gt import *"
   ]
  },
  {
   "cell_type": "code",
   "execution_count": 2,
   "id": "176365bc",
   "metadata": {},
   "outputs": [],
   "source": [
    "csv_arestas = 'arestas.csv'\n",
    "csv_vertices = 'vertices.csv'"
   ]
  },
  {
   "cell_type": "code",
   "execution_count": 3,
   "id": "fc785a6a",
   "metadata": {},
   "outputs": [],
   "source": [
    "arestas = pd.read_csv(csv_arestas, index_col = 0).reset_index().drop(\"index\", axis =1)\n",
    "vertices = pd.read_csv(csv_vertices, index_col = 0).reset_index().drop(\"index\", axis =1)\n",
    "grafo_conexoes = Graph(directed=False) # não-dirigido"
   ]
  },
  {
   "cell_type": "code",
   "execution_count": 4,
   "id": "9c466d91",
   "metadata": {},
   "outputs": [],
   "source": [
    "vertices_ = vertices.drop([\"LONG\", \"LAT\"], axis=1)"
   ]
  },
  {
   "cell_type": "code",
   "execution_count": 5,
   "id": "873ae7f5",
   "metadata": {},
   "outputs": [],
   "source": [
    "# arestas[arestas[\"NOMEMUN_B\"] == \"São Sebastião da Boa Vista\"]\n",
    "# vertices.shape"
   ]
  },
  {
   "cell_type": "code",
   "execution_count": 6,
   "id": "2c64271d",
   "metadata": {},
   "outputs": [],
   "source": [
    "#propriedades dos vertices\n",
    "grafo_conexoes.vp['CITY'] = grafo_conexoes.new_vp('object')\n",
    "grafo_conexoes.vp['STATE'] = grafo_conexoes.new_vp('object')\n",
    "grafo_conexoes.vp['IBGE_DU'] = grafo_conexoes.new_vp('float')\n",
    "grafo_conexoes.vp['IBGE_DU_URBAN'] = grafo_conexoes.new_vp('float')\n",
    "grafo_conexoes.vp['IBGE_POP'] = grafo_conexoes.new_vp('float')\n",
    "grafo_conexoes.vp['IBGE_15-59'] = grafo_conexoes.new_vp('float')\n",
    "grafo_conexoes.vp['IDHM'] = grafo_conexoes.new_vp('float')\n",
    "grafo_conexoes.vp['GDP'] = grafo_conexoes.new_vp('float')\n",
    "grafo_conexoes.vp['GDP_CAPITA'] = grafo_conexoes.new_vp('float')\n",
    "#propriedades dos arestas\n",
    "grafo_conexoes.ep['T_min'] = grafo_conexoes.new_ep('int')\n",
    "grafo_conexoes.ep['Freq'] = grafo_conexoes.new_ep('float')\n",
    "grafo_conexoes.ep['RelCost'] = grafo_conexoes.new_ep('float')\n",
    "grafo_conexoes.ep['Dist'] = grafo_conexoes.new_ep('float')"
   ]
  },
  {
   "cell_type": "code",
   "execution_count": 7,
   "id": "30cc99d4",
   "metadata": {},
   "outputs": [],
   "source": [
    "grafo_conexoes.add_vertex(vertices.shape[0])\n",
    "\n",
    "for i, label in vertices_.iterrows():\n",
    "    for col, val in zip(label.index, label):\n",
    "        grafo_conexoes.vp[col][grafo_conexoes.vertex(i)] = val\n",
    "\n",
    "for i, row in arestas.iterrows():\n",
    "    de = row[\"NOMEMUN_A\"]\n",
    "    para = row[\"NOMEMUN_B\"]\n",
    "    indice_de = vertices.index[vertices[\"CITY\"] == de][0]\n",
    "    indice_para = vertices.index[vertices[\"CITY\"] == para][0]\n",
    "    grafo_conexoes.add_edge(indice_de, indice_para)\n",
    "    label = row[[\"T_min\", \"Freq\", \"RelCost\", \"Dist\"]]\n",
    "    for col, val in zip(label.index, label):\n",
    "            grafo_conexoes.ep[col][grafo_conexoes.edge(indice_de, indice_para)] = val\n"
   ]
  },
  {
   "cell_type": "code",
   "execution_count": 8,
   "id": "68238586",
   "metadata": {},
   "outputs": [
    {
     "ename": "ValueError",
     "evalue": "Parallel edges not allowed",
     "output_type": "error",
     "traceback": [
      "\u001b[0;31m---------------------------------------------------------------------------\u001b[0m",
      "\u001b[0;31mValueError\u001b[0m                                Traceback (most recent call last)",
      "\u001b[0;32m/tmp/ipykernel_355/2410113067.py\u001b[0m in \u001b[0;36m<module>\u001b[0;34m\u001b[0m\n\u001b[0;32m----> 1\u001b[0;31m \u001b[0msave_gt\u001b[0m\u001b[0;34m(\u001b[0m\u001b[0mgrafo_conexoes\u001b[0m\u001b[0;34m,\u001b[0m \u001b[0;34m'grafo_conexoes.net.gz'\u001b[0m\u001b[0;34m)\u001b[0m\u001b[0;34m\u001b[0m\u001b[0;34m\u001b[0m\u001b[0m\n\u001b[0m",
      "\u001b[0;32m/home/jupyter/netpixi/data/gt.py\u001b[0m in \u001b[0;36msave_gt\u001b[0;34m(g, path)\u001b[0m\n\u001b[1;32m    199\u001b[0m \u001b[0;34m\u001b[0m\u001b[0m\n\u001b[1;32m    200\u001b[0m \u001b[0;32mdef\u001b[0m \u001b[0msave_gt\u001b[0m\u001b[0;34m(\u001b[0m\u001b[0mg\u001b[0m\u001b[0;34m,\u001b[0m \u001b[0mpath\u001b[0m\u001b[0;34m)\u001b[0m\u001b[0;34m:\u001b[0m\u001b[0;34m\u001b[0m\u001b[0;34m\u001b[0m\u001b[0m\n\u001b[0;32m--> 201\u001b[0;31m     \u001b[0msave\u001b[0m\u001b[0;34m(\u001b[0m\u001b[0mGTSaver\u001b[0m\u001b[0;34m,\u001b[0m \u001b[0mg\u001b[0m\u001b[0;34m,\u001b[0m \u001b[0mpath\u001b[0m\u001b[0;34m)\u001b[0m\u001b[0;34m\u001b[0m\u001b[0;34m\u001b[0m\u001b[0m\n\u001b[0m\u001b[1;32m    202\u001b[0m \u001b[0;34m\u001b[0m\u001b[0m\n\u001b[1;32m    203\u001b[0m \u001b[0;34m\u001b[0m\u001b[0m\n",
      "\u001b[0;32m/home/jupyter/netpixi/data/__init__.py\u001b[0m in \u001b[0;36msave\u001b[0;34m(Class, g, path)\u001b[0m\n\u001b[1;32m    134\u001b[0m \u001b[0;32mdef\u001b[0m \u001b[0msave\u001b[0m\u001b[0;34m(\u001b[0m\u001b[0mClass\u001b[0m\u001b[0;34m,\u001b[0m \u001b[0mg\u001b[0m\u001b[0;34m,\u001b[0m \u001b[0mpath\u001b[0m\u001b[0;34m)\u001b[0m\u001b[0;34m:\u001b[0m\u001b[0;34m\u001b[0m\u001b[0;34m\u001b[0m\u001b[0m\n\u001b[1;32m    135\u001b[0m     \u001b[0msaver\u001b[0m \u001b[0;34m=\u001b[0m \u001b[0mClass\u001b[0m\u001b[0;34m(\u001b[0m\u001b[0;34m)\u001b[0m\u001b[0;34m\u001b[0m\u001b[0;34m\u001b[0m\u001b[0m\n\u001b[0;32m--> 136\u001b[0;31m     \u001b[0msaver\u001b[0m\u001b[0;34m.\u001b[0m\u001b[0msave\u001b[0m\u001b[0;34m(\u001b[0m\u001b[0mg\u001b[0m\u001b[0;34m,\u001b[0m \u001b[0mpath\u001b[0m\u001b[0;34m)\u001b[0m\u001b[0;34m\u001b[0m\u001b[0;34m\u001b[0m\u001b[0m\n\u001b[0m",
      "\u001b[0;32m/home/jupyter/netpixi/data/__init__.py\u001b[0m in \u001b[0;36msave\u001b[0;34m(self, g, path)\u001b[0m\n\u001b[1;32m    101\u001b[0m \u001b[0;34m\u001b[0m\u001b[0m\n\u001b[1;32m    102\u001b[0m     \u001b[0;32mdef\u001b[0m \u001b[0msave\u001b[0m\u001b[0;34m(\u001b[0m\u001b[0mself\u001b[0m\u001b[0;34m,\u001b[0m \u001b[0mg\u001b[0m\u001b[0;34m,\u001b[0m \u001b[0mpath\u001b[0m\u001b[0;34m)\u001b[0m\u001b[0;34m:\u001b[0m\u001b[0;34m\u001b[0m\u001b[0;34m\u001b[0m\u001b[0m\n\u001b[0;32m--> 103\u001b[0;31m         \u001b[0mself\u001b[0m\u001b[0;34m.\u001b[0m\u001b[0mvalidate\u001b[0m\u001b[0;34m(\u001b[0m\u001b[0mg\u001b[0m\u001b[0;34m)\u001b[0m\u001b[0;34m\u001b[0m\u001b[0;34m\u001b[0m\u001b[0m\n\u001b[0m\u001b[1;32m    104\u001b[0m         \u001b[0;32mwith\u001b[0m \u001b[0mgzip\u001b[0m\u001b[0;34m.\u001b[0m\u001b[0mopen\u001b[0m\u001b[0;34m(\u001b[0m\u001b[0mpath\u001b[0m\u001b[0;34m,\u001b[0m \u001b[0;34m'w'\u001b[0m\u001b[0;34m)\u001b[0m \u001b[0;32mas\u001b[0m \u001b[0mfile\u001b[0m\u001b[0;34m:\u001b[0m\u001b[0;34m\u001b[0m\u001b[0;34m\u001b[0m\u001b[0m\n\u001b[1;32m    105\u001b[0m             \u001b[0mdata\u001b[0m\u001b[0;34m,\u001b[0m \u001b[0mprops\u001b[0m \u001b[0;34m=\u001b[0m \u001b[0mself\u001b[0m\u001b[0;34m.\u001b[0m\u001b[0msettings\u001b[0m\u001b[0;34m(\u001b[0m\u001b[0mg\u001b[0m\u001b[0;34m)\u001b[0m\u001b[0;34m\u001b[0m\u001b[0;34m\u001b[0m\u001b[0m\n",
      "\u001b[0;32m/home/jupyter/netpixi/data/gt.py\u001b[0m in \u001b[0;36mvalidate\u001b[0;34m(self, g)\u001b[0m\n\u001b[1;32m     79\u001b[0m             \u001b[0mkey\u001b[0m \u001b[0;34m=\u001b[0m \u001b[0;34m(\u001b[0m\u001b[0mkey\u001b[0m\u001b[0;34m[\u001b[0m\u001b[0;36m0\u001b[0m\u001b[0;34m]\u001b[0m\u001b[0;34m,\u001b[0m \u001b[0mkey\u001b[0m\u001b[0;34m[\u001b[0m\u001b[0;36m1\u001b[0m\u001b[0;34m]\u001b[0m\u001b[0;34m)\u001b[0m\u001b[0;34m\u001b[0m\u001b[0;34m\u001b[0m\u001b[0m\n\u001b[1;32m     80\u001b[0m             \u001b[0;32mif\u001b[0m \u001b[0mkey\u001b[0m \u001b[0;32min\u001b[0m \u001b[0ms\u001b[0m\u001b[0;34m:\u001b[0m\u001b[0;34m\u001b[0m\u001b[0;34m\u001b[0m\u001b[0m\n\u001b[0;32m---> 81\u001b[0;31m                 \u001b[0;32mraise\u001b[0m \u001b[0mValueError\u001b[0m\u001b[0;34m(\u001b[0m\u001b[0;34m'Parallel edges not allowed'\u001b[0m\u001b[0;34m)\u001b[0m\u001b[0;34m\u001b[0m\u001b[0;34m\u001b[0m\u001b[0m\n\u001b[0m\u001b[1;32m     82\u001b[0m             \u001b[0;32melse\u001b[0m\u001b[0;34m:\u001b[0m\u001b[0;34m\u001b[0m\u001b[0;34m\u001b[0m\u001b[0m\n\u001b[1;32m     83\u001b[0m                 \u001b[0ms\u001b[0m\u001b[0;34m.\u001b[0m\u001b[0madd\u001b[0m\u001b[0;34m(\u001b[0m\u001b[0mkey\u001b[0m\u001b[0;34m)\u001b[0m\u001b[0;34m\u001b[0m\u001b[0;34m\u001b[0m\u001b[0m\n",
      "\u001b[0;31mValueError\u001b[0m: Parallel edges not allowed"
     ]
    }
   ],
   "source": [
    "save_gt(grafo_conexoes, 'grafo_conexoes.net.gz') #RIP"
   ]
  },
  {
   "cell_type": "code",
   "execution_count": null,
   "id": "82c8fd93",
   "metadata": {},
   "outputs": [],
   "source": []
  },
  {
   "cell_type": "code",
   "execution_count": null,
   "id": "6a5360a1",
   "metadata": {},
   "outputs": [],
   "source": []
  }
 ],
 "metadata": {
  "kernelspec": {
   "display_name": "Python 3 (ipykernel)",
   "language": "python",
   "name": "python3"
  },
  "language_info": {
   "codemirror_mode": {
    "name": "ipython",
    "version": 3
   },
   "file_extension": ".py",
   "mimetype": "text/x-python",
   "name": "python",
   "nbconvert_exporter": "python",
   "pygments_lexer": "ipython3",
   "version": "3.7.11"
  }
 },
 "nbformat": 4,
 "nbformat_minor": 5
}
